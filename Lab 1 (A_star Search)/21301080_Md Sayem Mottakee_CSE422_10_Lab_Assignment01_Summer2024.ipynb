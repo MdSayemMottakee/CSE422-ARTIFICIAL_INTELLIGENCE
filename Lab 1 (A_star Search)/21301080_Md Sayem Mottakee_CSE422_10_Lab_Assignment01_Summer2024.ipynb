{
  "nbformat": 4,
  "nbformat_minor": 0,
  "metadata": {
    "colab": {
      "provenance": []
    },
    "kernelspec": {
      "name": "python3",
      "display_name": "Python 3"
    },
    "language_info": {
      "name": "python"
    }
  },
  "cells": [
    {
      "cell_type": "markdown",
      "source": [
        "# A* Search Algorithm"
      ],
      "metadata": {
        "id": "kjDoZpX8s-UC"
      }
    },
    {
      "cell_type": "code",
      "source": [
        "def a_star(graph, start, goal, heuristic):\n",
        "    a_list = {start: (0, 0 + heuristic[start], [])}  # (path_cost, total_cost, path list) #Tracking the path\n",
        "    visited_area = set()\n",
        "\n",
        "    while a_list:\n",
        "        cur_loc = min(a_list, key=lambda k: a_list[k][1]) #finding lowest cost\n",
        "        path_cost, total_cost, path = a_list[cur_loc]\n",
        "        path = path + [cur_loc]\n",
        "\n",
        "        if cur_loc == goal:          #Checking if I reached the destination or not\n",
        "            return path, path_cost\n",
        "\n",
        "        del a_list[cur_loc]         #poping out the lowest cost node\n",
        "        visited_area.add(cur_loc)\n",
        "\n",
        "        for neighbor, cost in graph[cur_loc].items(): #iterating over the neighbors of the current location\n",
        "            new_path_cost = path_cost + cost\n",
        "            new_total_cost = new_path_cost + heuristic[neighbor]\n",
        "\n",
        "            if neighbor in visited_area:  # If the neighbor is in the visited_area\n",
        "                if neighbor in a_list and new_total_cost >= a_list[neighbor][1]: # If this path to neighbor is cheaper, reprocess the neighbor\n",
        "                    continue\n",
        "                visited_area.remove(neighbor)\n",
        "\n",
        "            if neighbor not in a_list or new_total_cost < a_list[neighbor][1]: # If the neighbor is not in the a_list or found a cheaper path\n",
        "                a_list[neighbor] = (new_path_cost, new_total_cost, path)\n",
        "\n",
        "    return None, float('inf')"
      ],
      "metadata": {
        "id": "Ox4N3jJz-s8j"
      },
      "execution_count": 33,
      "outputs": []
    },
    {
      "cell_type": "code",
      "execution_count": 34,
      "metadata": {
        "id": "8omxYm4a90MI"
      },
      "outputs": [],
      "source": [
        "g={}\n",
        "h={}\n",
        "fullName = {}\n",
        "with open(\"21301080_Md Sayem Mottakee_CSE422_10_Lab_Assignment01_InputFile_Summer2024.txt\", \"r\") as f:\n",
        "  lines=f.readlines()\n",
        "  for l in lines:\n",
        "    s=l.split()\n",
        "    first=s[0][0]\n",
        "    fullName[first] = s[0]\n",
        "    h[first]=int(s[1])\n",
        "    g[first]={}\n",
        "    for i in range (2,len(s),2):\n",
        "      g[first][s[i][0]]=int(s[i+1])\n",
        "      if i not in fullName:\n",
        "        fullName[s[i][0]] = s[i]\n",
        "\n",
        "#print(g)\n",
        "#print(\"Heuristic value = \",h)\n",
        "#print(fullName)"
      ]
    },
    {
      "cell_type": "code",
      "source": [
        "starting=input(\"Write the starting point: \")\n",
        "start=starting[0]\n",
        "goal=\"B\"\n",
        "path, cost= a_star(g, start, goal, h)\n",
        "#print(f\"Path: {path}, Cost: {cost}\")"
      ],
      "metadata": {
        "id": "C8QfMS9tCSY-",
        "colab": {
          "base_uri": "https://localhost:8080/"
        },
        "outputId": "1b7ee623-7e0d-4d41-dd55-f6443e8fb46e"
      },
      "execution_count": 35,
      "outputs": [
        {
          "name": "stdout",
          "output_type": "stream",
          "text": [
            "Write the starting point: Arad\n"
          ]
        }
      ]
    },
    {
      "cell_type": "code",
      "source": [
        "output_file = '21301080_Md Sayem Mottakee_CSE422_10_Lab_Assignment01_OutputFile_Summer2024.txt'\n",
        "if path is None:\n",
        "    output = \"NO PATH FOUND\"\n",
        "else:\n",
        "    covtName = [fullName[node] for node in path]\n",
        "    output = f\"Path: {' -> '.join(covtName)}\\nTotal distance: {cost} km\"\n",
        "\n",
        "print(output)\n",
        "\n",
        "with open(output_file, 'w') as f:\n",
        "    f.write(output)"
      ],
      "metadata": {
        "colab": {
          "base_uri": "https://localhost:8080/"
        },
        "id": "PTSy_MUWiaG7",
        "outputId": "535aa60b-b457-4706-e6cd-1a52e8f706ec"
      },
      "execution_count": 36,
      "outputs": [
        {
          "output_type": "stream",
          "name": "stdout",
          "text": [
            "Path: Arad -> Sibiu -> RimnicuVilcea -> Pitesti -> Bucharest\n",
            "Total distance: 418 km\n"
          ]
        }
      ]
    },
    {
      "cell_type": "code",
      "source": [
        "# g={'A': {'Z': 75, 'T': 118, 'S': 140},\n",
        "#    'C': {'D': 120, 'R': 146, 'P': 138},\n",
        "#    'E': {'H': 86},\n",
        "#    'F': {'S': 99, 'B': 211},\n",
        "#    'G': {'B': 90},\n",
        "#    'M': {'L': 70, 'D': 75},\n",
        "#    'N': {'l': 87},\n",
        "#    'S': {'O': 151, 'A': 140, 'R': 80, 'F': 99},\n",
        "#    'O': {'Z': 71, 'S': 151},\n",
        "#    'P': {'R': 97, 'C': 138, 'B': 101},\n",
        "#    'R': {'S': 80, 'C': 146, 'P': 97},\n",
        "#    'D': {'M': 75, 'C': 120},\n",
        "#    'H': {'U': 98, 'E': 86},\n",
        "#    'l': {'V': 92, 'N': 87},\n",
        "#    'L': {'T': 111, 'M': 70},\n",
        "#    'T': {'A': 118, 'L': 111},\n",
        "#    'U': {'B': 85, 'H': 98, 'V': 142},\n",
        "#    'V': {'U': 142, 'l': 92},\n",
        "#    'Z': {'O': 71, 'A': 75},\n",
        "#    'B': {'F': 211, 'P': 101, 'G': 90, 'U': 85}}\n",
        "\n",
        "# h =  {'A': 366,\n",
        "#       'C': 160,\n",
        "#       'E': 161,\n",
        "#       'F': 176,\n",
        "#       'G': 77,\n",
        "#       'M': 241,\n",
        "#       'N': 234,\n",
        "#       'S': 253,\n",
        "#       'O': 380,\n",
        "#       'P': 100,\n",
        "#       'R': 193,\n",
        "#       'D': 242,\n",
        "#       'H': 151,\n",
        "#       'l': 226,\n",
        "#       'L': 244,\n",
        "#       'T': 329,\n",
        "#       'U': 80,\n",
        "#       'V': 199,\n",
        "#       'Z': 374,\n",
        "#       'B': 0}\n",
        "\n",
        "# fullName={'A': 'Arad',\n",
        "#           'Z': 'Zerind',\n",
        "#           'T': 'Timisoara',\n",
        "#           'S': 'Sibiu',\n",
        "#           'C': 'Craiova',\n",
        "#           'D': 'Dobreta',\n",
        "#           'R': 'RimnicuVilcea',\n",
        "#           'P': 'Pitesti',\n",
        "#           'E': 'Eforie',\n",
        "#           'H': 'Hirsova',\n",
        "#           'F': 'Fagaras',\n",
        "#           'B': 'Bucharest',\n",
        "#           'G': 'Giurgiu',\n",
        "#           'M': 'Mehadia',\n",
        "#           'L': 'Lugoj',\n",
        "#           'N': 'Neamt',\n",
        "#           'l': 'lasi',\n",
        "#           'O': 'Oradea',\n",
        "#           'U': 'Urziceni',\n",
        "#           'V': 'Vaslui'}"
      ],
      "metadata": {
        "id": "XUCbUr8kCH1O"
      },
      "execution_count": 37,
      "outputs": []
    }
  ]
}