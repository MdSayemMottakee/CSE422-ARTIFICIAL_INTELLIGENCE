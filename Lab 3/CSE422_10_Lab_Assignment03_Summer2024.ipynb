{
  "nbformat": 4,
  "nbformat_minor": 0,
  "metadata": {
    "colab": {
      "provenance": []
    },
    "kernelspec": {
      "name": "python3",
      "display_name": "Python 3"
    },
    "language_info": {
      "name": "python"
    }
  },
  "cells": [
    {
      "cell_type": "code",
      "execution_count": null,
      "metadata": {
        "colab": {
          "base_uri": "https://localhost:8080/"
        },
        "id": "pU43_GSFTclW",
        "outputId": "69a9af24-2b75-486b-f1c4-48a95d109181"
      },
      "outputs": [
        {
          "output_type": "stream",
          "name": "stdout",
          "text": [
            "Enter starting player: 0\n",
            "Game Winner: Scorpion \n",
            "Total Rounds Played: 3 \n",
            "Winner of Round 1: Sub-Zero\n",
            "Winner of Round 2: Scorpion\n",
            "Winner of Round 3: Scorpion\n"
          ]
        }
      ],
      "source": [
        "#Task 1\n",
        "import random\n",
        "\n",
        "class mortalKombat:\n",
        "    def __init__(self, first_start, trp):\n",
        "        self.first_start = first_start\n",
        "        self.total_rounds_played = trp\n",
        "        self.max_depth = 5              #max depth of the game tree = 5\n",
        "        self.branching_factor = 2       #branching factor = 2\n",
        "        self.winner_list = []\n",
        "        self.scorpion_count = 0 #Counting scorpion win\n",
        "        self.subZero_count = 0 #Counting sub Zero win\n",
        "\n",
        "    def gameStart(self):\n",
        "        current_player = self.first_start\n",
        "\n",
        "        for i in range(0, self.total_rounds_played):\n",
        "            round_winner = self.alpha_beta(current_player, 0, -float('inf'), float('inf'))\n",
        "            if round_winner == -1:\n",
        "                self.winner_list.append('Scorpion')\n",
        "                self.scorpion_count += 1\n",
        "            else:\n",
        "                self.winner_list.append('Sub-Zero')\n",
        "                self.subZero_count += 1\n",
        "\n",
        "            if self.scorpion_count == 2 or self.subZero_count == 2: #He, who will win atleast 2 match, will be the winner\n",
        "                break\n",
        "\n",
        "            current_player = 1 - current_player #The player who didn't take the first turn in the previous round will start in subsequent rounds.\n",
        "\n",
        "\n",
        "        if self.scorpion_count > self.subZero_count:\n",
        "            game_winner = 'Scorpion'\n",
        "        else:\n",
        "            game_winner ='Sub-Zero'\n",
        "\n",
        "        each_round_winner=\"\"\n",
        "        for i in range (len(self.winner_list)):\n",
        "          each_round_winner += f\"\\nWinner of Round {i+1}: {self.winner_list[i]}\"\n",
        "\n",
        "        return game_winner, len(self.winner_list),each_round_winner\n",
        "\n",
        "\n",
        "    def alpha_beta(self, player, depth, alpha, beta):\n",
        "        if depth == self.max_depth:\n",
        "            return random.choice([-1, 1])  # -1 means Scorpion wins, 1 means Sub-Zero wins\n",
        "\n",
        "        if player == 0:  # Scorpion's turn-->minimizing\n",
        "            node = float('inf')\n",
        "            for i in range(self.branching_factor):\n",
        "                node = min(node, self.alpha_beta(1 - player, depth + 1, alpha, beta))\n",
        "                beta = min(beta, node)\n",
        "                if alpha >= beta:\n",
        "                    break  # Deleting Branch\n",
        "            return node\n",
        "\n",
        "        elif player == 1:  # Sub-Zero's turn-->maximizing\n",
        "            node = -float('inf')\n",
        "            for i in range(self.branching_factor):\n",
        "                node = max(node, self.alpha_beta(1 - player, depth + 1, alpha, beta))\n",
        "                alpha = max(alpha, node)\n",
        "                if alpha >= beta:\n",
        "                    break  # Deleting Branch\n",
        "            return node\n",
        "\n",
        "\n",
        "player_start = int(input(\"Enter starting player: \"))\n",
        "trp= 3 #int(input(\"Number of total Rounds to be Playedr: \"))  #Let, Total Rounds Played = 3. He, who will win atleast 2 match will be the winner\n",
        "\n",
        "game = mortalKombat(player_start,trp)\n",
        "\n",
        "game_winner, total_rounds_played, each_round_winner = game.gameStart()\n",
        "\n",
        "print(f\"Game Winner: {game_winner} \\nTotal Rounds Played: {total_rounds_played} {each_round_winner}\")"
      ]
    },
    {
      "cell_type": "code",
      "source": [
        "#Task 2\n",
        "\n",
        "def pacman_game(c):\n",
        "    leaf_list = [3, 6, 2, 3, 7, 1, 2, 0]\n",
        "    darkMagic_left = max(leaf_list[0:4]) - c\n",
        "    darkMagic_right = max(leaf_list[4:8]) - c\n",
        "\n",
        "    if darkMagic_left > darkMagic_right :\n",
        "        darkMagic = darkMagic_left\n",
        "        go = \"left\"\n",
        "    else:\n",
        "        darkMagic = darkMagic_right\n",
        "        go = \"right\"\n",
        "\n",
        "    alpha = float('-inf')\n",
        "    beta = float('inf')\n",
        "    noDarkMagic = alpha_beta(0, 0, 0, alpha, beta, leaf_list)\n",
        "\n",
        "    if darkMagic > noDarkMagic:\n",
        "        return f\"The new minimax value is {darkMagic}. Pacman goes {go} and uses dark magic\"\n",
        "    else:\n",
        "        return f\"The minimax value is {noDarkMagic}. Pacman does not use dark magic\"\n",
        "\n",
        "def alpha_beta(depth, scored, player, alpha, beta, leaf_values):\n",
        "    if depth == 3:\n",
        "        return leaf_values[scored]\n",
        "    if player == 0:\n",
        "        node = float('-inf')\n",
        "        for i in range(2):\n",
        "            node = max(node, alpha_beta(depth + 1, scored * 2 + i, 1, alpha, beta, leaf_values))\n",
        "            alpha = max(alpha, node)\n",
        "            if beta <= alpha:  # Deleting Branch\n",
        "                break\n",
        "        return node\n",
        "    elif player == 1:\n",
        "        node = float('inf')\n",
        "        for i in range(2):\n",
        "            node = min(node, alpha_beta(depth + 1, scored * 2 + i, 0, alpha, beta, leaf_values))\n",
        "            beta = min(beta, node)\n",
        "            if beta <= alpha:   # Deleting Branch\n",
        "                break\n",
        "        return node\n",
        "\n",
        "strategy = pacman_game(2)\n",
        "print(strategy)\n",
        "\n",
        "strategy = pacman_game(5)\n",
        "print(strategy)"
      ],
      "metadata": {
        "colab": {
          "base_uri": "https://localhost:8080/"
        },
        "id": "8vyuDUqrP0wY",
        "outputId": "8bc13918-f27d-4672-e83c-1c6e9e0497fc"
      },
      "execution_count": null,
      "outputs": [
        {
          "output_type": "stream",
          "name": "stdout",
          "text": [
            "The new minimax value is 5. Pacman goes right and uses dark magic\n",
            "The minimax value is 3. Pacman does not use dark magic\n"
          ]
        }
      ]
    }
  ]
}