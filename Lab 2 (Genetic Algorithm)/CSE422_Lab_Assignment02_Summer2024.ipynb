{
  "cells": [
    {
      "cell_type": "code",
      "execution_count": 14,
      "metadata": {
        "colab": {
          "base_uri": "https://localhost:8080/"
        },
        "id": "VY-K3U3-J7KK",
        "outputId": "ece1f578-ffa6-4f43-ad67-9df17a66cedb"
      },
      "outputs": [
        {
          "name": "stdout",
          "output_type": "stream",
          "text": [
            "Best Solution: 100001010\n",
            "Fitness: 0\n"
          ]
        }
      ],
      "source": [
        "#part1\n",
        "\n",
        "import random\n",
        "\n",
        "class schedule:\n",
        "    def __init__(self, n, t, total_chromo, max_depth, mutation_rate=0.1):\n",
        "        self.n = n\n",
        "        self.t = t\n",
        "        self.total_chromo = total_chromo\n",
        "        self.max_depth = max_depth\n",
        "        self.mutation_rate = mutation_rate #10%\n",
        "        self.chromoList = self.chromosome_generate()\n",
        "\n",
        "    def chromosome_generate(self):\n",
        "        chromoList = []\n",
        "        for i in range(self.total_chromo):\n",
        "            chromosome = [random.randint(0, 1) for c in range(self.n * self.t)]\n",
        "            chromoList.append(chromosome)\n",
        "\n",
        "        #print(population)\n",
        "        return chromoList\n",
        "\n",
        "    def genetic_algorithm(self):\n",
        "        generation_depth = 0\n",
        "        best_fit = float('-inf')\n",
        "        best_list = None\n",
        "\n",
        "        while generation_depth < self.max_depth:\n",
        "            fitness_list = [self.fitness(chromosome) for chromosome in self.chromoList]\n",
        "            #print(fitness_list)\n",
        "            max_fit = max(fitness_list)\n",
        "            if max_fit > best_fit:\n",
        "                best_fit = max_fit\n",
        "                best_list = self.chromoList[fitness_list.index(max_fit)]\n",
        "\n",
        "            new_chromosomeList = []\n",
        "\n",
        "            for i in range(self.total_chromo // 2):\n",
        "                parent1, parent2 = self.select_parents(fitness_list)\n",
        "                offspring1, offspring2 = self.crossover(parent1, parent2)\n",
        "                child1 = self.mutate(offspring1)\n",
        "                child2 = self.mutate(offspring2)\n",
        "                new_chromosomeList.extend([child1, child2])\n",
        "\n",
        "            self.chromoList = new_chromosomeList\n",
        "            generation_depth += 1\n",
        "\n",
        "        return best_list, best_fit\n",
        "\n",
        "    def fitness(self, chromosome):\n",
        "        overlap_penalty = 0\n",
        "        consistency_penalty = 0\n",
        "\n",
        "        # overlap penalty\n",
        "        for t in range(self.t):\n",
        "            same_slot = sum(chromosome[t * self.n:(t + 1) * self.n])\n",
        "            if same_slot > 1:\n",
        "                overlap_penalty += (same_slot - 1)\n",
        "        # consistency penalty\n",
        "        for n in range(self.n):\n",
        "            repeat_course = sum(chromosome[n::self.n])\n",
        "            consistency_penalty += abs(repeat_course - 1)\n",
        "\n",
        "        return  -(overlap_penalty + consistency_penalty)\n",
        "\n",
        "    def select_parents(self, fitness_list):\n",
        "        total_fitness = sum(fitness_list)\n",
        "        fitness_probs = [fitness / total_fitness for fitness in fitness_list]\n",
        "        parent1 = random.choices(self.chromoList, weights=fitness_probs)[0]\n",
        "        parent2 = random.choices(self.chromoList, weights=fitness_probs)[0]\n",
        "        return parent1, parent2\n",
        "\n",
        "    def crossover(self, parent1, parent2):\n",
        "        crossover_point = random.randint(1, len(parent1) - 1)\n",
        "        child1 = parent1[:crossover_point] + parent2[crossover_point:]\n",
        "        child2 = parent2[:crossover_point] + parent1[crossover_point:]\n",
        "        return child1, child2\n",
        "\n",
        "    def mutate(self, chromosome):\n",
        "        for i in range(len(chromosome)):\n",
        "            if random.random() < self.mutation_rate:\n",
        "                chromosome[i] = 1 - chromosome[i] #if 1, then 0. if 0  then 1.\n",
        "        return chromosome\n",
        "\n",
        "with open(\"CSE422_10_Lab_Assignment02_InputFile_Summer2024.txt\", 'r') as f1:\n",
        "    first_line = f1.readline().strip()\n",
        "    number_of_courses, number_of_timeslots = map(int, first_line.split())\n",
        "\n",
        "    if number_of_timeslots < number_of_courses:\n",
        "        raise ValueError(\"Number of timeslots T should be greater than or equal to the number of courses N\")\n",
        "\n",
        "    courses = []\n",
        "    for i in range(number_of_courses):\n",
        "        courses.append(f1.readline().strip())\n",
        "\n",
        "total_chromo = 20\n",
        "max_depth = 1000\n",
        "\n",
        "optimized_schedule = schedule(number_of_courses, number_of_timeslots, total_chromo, max_depth)\n",
        "s, f = optimized_schedule.genetic_algorithm()\n",
        "\n",
        "print(\"Best Solution:\", ''.join(map(str, s)))\n",
        "print(\"Fitness:\", f)\n",
        "\n",
        "with open(\"CSE422_10_Lab_Assignment02_OutputFile_Summer2024.txt\", \"w\") as f2:\n",
        "    f2.write(\"Best Solution: \" + ''.join(map(str, s)) + \"\\n\")\n",
        "    f2.write(\"Fitness: \" + str(f) + \"\\n\")"
      ]
    },
    {
      "cell_type": "code",
      "execution_count": 15,
      "metadata": {
        "colab": {
          "base_uri": "https://localhost:8080/"
        },
        "id": "upvIliuSIiOO",
        "outputId": "5e7663cb-4fc5-4ec0-b550-02af59b2b689"
      },
      "outputs": [
        {
          "name": "stdout",
          "output_type": "stream",
          "text": [
            "Parent1:  111011111\n",
            "Parent2:  010010111\n",
            "6 7\n",
            "Child1 :  111011111\n",
            "Child2 :  111011111\n"
          ]
        }
      ],
      "source": [
        "#Part2\n",
        "\n",
        "def two_point_crossover(self):\n",
        "    parent1 = random.choice(self.chromoList)\n",
        "    parent2 = random.choice(self.chromoList)\n",
        "\n",
        "    print(\"Parent1: \",''.join(map(str,parent1)))\n",
        "    print(\"Parent2: \", ''.join(map(str,parent2)))\n",
        "\n",
        "    crossover_point1 = random.randint(1, len(parent1) - 2)\n",
        "    crossover_point2 = random.randint(crossover_point1 + 1, len(parent1) - 1)\n",
        "    print(crossover_point1, crossover_point2)\n",
        "\n",
        "    child1 = parent1[:crossover_point1] + parent2[crossover_point1:crossover_point2] + parent1[crossover_point2:]\n",
        "    child2 = parent2[:crossover_point1] + parent1[crossover_point1:crossover_point2] + parent2[crossover_point2:]\n",
        "\n",
        "    print(\"Child1 : \",''.join(map(str,child1)))\n",
        "    print(\"Child2 : \",''.join(map(str,child1)))\n",
        "\n",
        "two_point_crossover(optimized_schedule)"
      ]
    }
  ],
  "metadata": {
    "colab": {
      "provenance": []
    },
    "kernelspec": {
      "display_name": "Python 3",
      "name": "python3"
    },
    "language_info": {
      "name": "python"
    }
  },
  "nbformat": 4,
  "nbformat_minor": 0
}
